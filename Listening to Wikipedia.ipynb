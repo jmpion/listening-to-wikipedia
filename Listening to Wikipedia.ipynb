{
 "cells": [
  {
   "cell_type": "markdown",
   "id": "fd89f0c4",
   "metadata": {},
   "source": [
    "## Importing packages"
   ]
  },
  {
   "cell_type": "code",
   "execution_count": null,
   "id": "504f4638",
   "metadata": {},
   "outputs": [],
   "source": [
    "from bs4 import BeautifulSoup\n",
    "import requests\n",
    "import re"
   ]
  },
  {
   "cell_type": "markdown",
   "id": "484408cd",
   "metadata": {},
   "source": [
    "## Scraping"
   ]
  },
  {
   "cell_type": "code",
   "execution_count": null,
   "id": "e8cac671",
   "metadata": {},
   "outputs": [],
   "source": [
    "url = \"https://en.wikipedia.org/wiki/Wikipedia\""
   ]
  },
  {
   "cell_type": "code",
   "execution_count": null,
   "id": "09a4a191",
   "metadata": {},
   "outputs": [],
   "source": [
    "r = requests.get(url)\n",
    "data = r.text\n",
    "soup = BeautifulSoup(data, \"lxml\")"
   ]
  },
  {
   "cell_type": "code",
   "execution_count": null,
   "id": "26231edb",
   "metadata": {},
   "outputs": [],
   "source": [
    "paragraphs = soup.findAll(\"p\")"
   ]
  },
  {
   "cell_type": "code",
   "execution_count": null,
   "id": "03c0c75c",
   "metadata": {},
   "outputs": [],
   "source": [
    "print(paragraphs)"
   ]
  },
  {
   "cell_type": "markdown",
   "id": "5aea43f1",
   "metadata": {},
   "source": [
    "## Processing the data"
   ]
  },
  {
   "cell_type": "code",
   "execution_count": null,
   "id": "dc773e6c",
   "metadata": {},
   "outputs": [],
   "source": [
    "for i in range(len(paragraphs)):\n",
    "    paragraphs[i] = paragraphs[i].get_text()\n",
    "\n",
    "pattern = r\"\\[[^\\]]*\\]\"\n",
    "for i in range(len(paragraphs)):\n",
    "    paragraphs[i] = re.sub(pattern, \"\", paragraphs[i])\n",
    "\n",
    "print(paragraphs)"
   ]
  },
  {
   "cell_type": "markdown",
   "id": "dabafaae",
   "metadata": {},
   "source": [
    "## Grouping all the text"
   ]
  },
  {
   "cell_type": "code",
   "execution_count": null,
   "id": "74ee2712",
   "metadata": {},
   "outputs": [],
   "source": [
    "text = \"\".join(paragraphs)"
   ]
  },
  {
   "cell_type": "markdown",
   "id": "0d7bb60f",
   "metadata": {},
   "source": [
    "## Text to speech"
   ]
  },
  {
   "cell_type": "code",
   "execution_count": null,
   "id": "a3b1a6e9",
   "metadata": {},
   "outputs": [],
   "source": [
    "import pyttsx3 as tts"
   ]
  },
  {
   "cell_type": "code",
   "execution_count": null,
   "id": "8b7374c2",
   "metadata": {},
   "outputs": [],
   "source": [
    "engine = tts.init()\n",
    "\n",
    "voices = engine.getProperty(\"voices\")\n",
    "for voice in voices:\n",
    "    print(voice)\n",
    "engine.setProperty(\"voice\", voices[1].id)\n",
    "\n",
    "\n",
    "engine.save_to_file(text, \"wikipedia.mp3\")\n",
    "engine.runAndWait()"
   ]
  },
  {
   "cell_type": "markdown",
   "id": "122f1379",
   "metadata": {},
   "source": [
    "https://www.onlineconverter.com/compress-mp3"
   ]
  }
 ],
 "metadata": {
  "kernelspec": {
   "display_name": "Python 3",
   "language": "python",
   "name": "python3"
  },
  "language_info": {
   "codemirror_mode": {
    "name": "ipython",
    "version": 3
   },
   "file_extension": ".py",
   "mimetype": "text/x-python",
   "name": "python",
   "nbconvert_exporter": "python",
   "pygments_lexer": "ipython3",
   "version": "3.8.3"
  }
 },
 "nbformat": 4,
 "nbformat_minor": 5
}
